{
 "cells": [
  {
   "cell_type": "markdown",
   "metadata": {},
   "source": [
    "# Data Processor and Packager for im2latex Data\n",
    "\n",
    "This project contains 2 data sources for initial training:\n",
    "- [im2latex-100k](https://huggingface.co/datasets/yuntian-deng/im2latex-100k) located at `./data/im2latex-100k`\n",
    "- *wikipedia-latex* compiled from `./latex-scraper`\n",
    "\n",
    "The following dataset was originally used but was later removed as the quality was not desirable.\n",
    "- [im2latex-230k](https://www.kaggle.com/datasets/gregoryeritsyan/im2latex-230k) located at `./data/PRINTED_TEX_230k`\n",
    "\n",
    "The goal is to combine them into 1 dataset for ease of use."
   ]
  },
  {
   "cell_type": "markdown",
   "metadata": {},
   "source": [
    "## Loading the Datasets\n",
    "\n",
    "We preload both the Wikipedia and im2latex-100k datasets."
   ]
  },
  {
   "cell_type": "code",
   "execution_count": 8,
   "metadata": {},
   "outputs": [],
   "source": [
    "import os\n",
    "import random\n",
    "from tqdm import tqdm\n",
    "from PIL import Image, ImageOps, PngImagePlugin\n",
    "import matplotlib.pyplot as plt\n",
    "import re\n",
    "\n",
    "from datasets import load_dataset, load_from_disk, Dataset, DatasetDict"
   ]
  },
  {
   "cell_type": "code",
   "execution_count": 9,
   "metadata": {},
   "outputs": [],
   "source": [
    "# Load wikipedia-latex dataset\n",
    "DATA_PATH_WIKIPEDIA_LATEX = \"./data/wikipedia-latex\"\n",
    "\n",
    "wikipedia_latex = load_from_disk(DATA_PATH_WIKIPEDIA_LATEX)"
   ]
  },
  {
   "cell_type": "code",
   "execution_count": 10,
   "metadata": {},
   "outputs": [],
   "source": [
    "# Load im2latex-100k dataset\n",
    "DATA_PATH_IM2LATEX100K = \"./data/im2latex-100k/\"\n",
    "\n",
    "im2latex_100k = load_dataset(DATA_PATH_IM2LATEX100K, trust_remote_code=True)"
   ]
  },
  {
   "cell_type": "markdown",
   "metadata": {},
   "source": [
    "## Computing Data Overlap\n",
    "\n",
    "Check for data overlap between the two datasets to prevent data leakage during training."
   ]
  },
  {
   "cell_type": "code",
   "execution_count": 11,
   "metadata": {},
   "outputs": [
    {
     "name": "stdout",
     "output_type": "stream",
     "text": [
      "wikipedia has 17 overlaps with 100k's training set, which comprises 0% of 100k's training set\n",
      "wikipedia has 1 overlaps with 100k's validation set, which comprises 0% of 100k's validation set\n",
      "wikipedia has 4 overlaps with 100k's testing set, which comprises 0% of 100k's testing set\n"
     ]
    }
   ],
   "source": [
    "# Convert formula lists to sets to compute intersection\n",
    "formula_wikipedia_sets = set(wikipedia_latex[\"formula\"])\n",
    "formula_100k_train_set = set(im2latex_100k[\"train\"][\"formula\"])\n",
    "formula_100k_val_set = set(im2latex_100k[\"val\"][\"formula\"])\n",
    "formula_100k_test_set = set(im2latex_100k[\"test\"][\"formula\"])\n",
    "\n",
    "train_inter = formula_wikipedia_sets.intersection(formula_100k_train_set)\n",
    "print(f\"wikipedia has {len(train_inter)} overlaps with 100k's training set, which comprises {(len(train_inter) / len(formula_100k_train_set) * 100):.00f}% of 100k's training set\")\n",
    "\n",
    "val_inter = formula_wikipedia_sets.intersection(formula_100k_val_set)\n",
    "print(f\"wikipedia has {len(val_inter)} overlaps with 100k's validation set, which comprises {(len(val_inter) / len(formula_100k_val_set) * 100):.00f}% of 100k's validation set\")\n",
    "\n",
    "test_inter = formula_wikipedia_sets.intersection(formula_100k_test_set)\n",
    "print(f\"wikipedia has {len(test_inter)} overlaps with 100k's testing set, which comprises {(len(test_inter) / len(formula_100k_test_set) * 100):.00f}% of 100k's testing set\")"
   ]
  },
  {
   "cell_type": "code",
   "execution_count": 12,
   "metadata": {},
   "outputs": [
    {
     "data": {
      "text/plain": [
       "<matplotlib.image.AxesImage at 0x7f4d4584d710>"
      ]
     },
     "execution_count": 12,
     "metadata": {},
     "output_type": "execute_result"
    },
    {
     "data": {
      "image/png": "[encoded data removed]",
      "text/plain": [
       "<Figure size 640x480 with 2 Axes>"
      ]
     },
     "metadata": {},
     "output_type": "display_data"
    }
   ],
   "source": [
    "# Overlap example\n",
    "overlap_example = list(train_inter)[random.randint(0, len(train_inter) - 1)]\n",
    "\n",
    "overlap_index_wikipedia = wikipedia_latex[\"formula\"].index(overlap_example)\n",
    "overlap_index_100k = im2latex_100k[\"train\"][\"formula\"].index(overlap_example)\n",
    "\n",
    "# Plot figure with images from both datasets\n",
    "fig = plt.figure()\n",
    "\n",
    "plt.suptitle(overlap_example)\n",
    "\n",
    "fig.add_subplot(2, 1, 1)\n",
    "plt.imshow(wikipedia_latex[overlap_index_wikipedia][\"image\"])\n",
    "    \n",
    "fig.add_subplot(2, 1, 2)\n",
    "plt.imshow(im2latex_100k[\"train\"][overlap_index_100k][\"image\"])"
   ]
  },
  {
   "cell_type": "markdown",
   "metadata": {},
   "source": [
    "## Building the Dataset\n",
    "\n",
    "Build generators for wikipedia and 100k datasets, cropping the borders from each image for 100k and discarding duplicate cases."
   ]
  },
  {
   "cell_type": "code",
   "execution_count": 13,
   "metadata": {},
   "outputs": [],
   "source": [
    "# Initialize empty dataset, with a formula lookup set to maintain efficiency\n",
    "loaded_formulas = set()\n",
    "\n",
    "# Generator for final dataset\n",
    "def im2latex_generator():\n",
    "    \n",
    "    # Function to crop white borders\n",
    "    def crop_borders(img: PngImagePlugin.PngImageFile):\n",
    "        return img.crop(ImageOps.invert(img.convert(\"RGB\")).getbbox())\n",
    "    \n",
    "    # Function to ensure latex from both datasets is the same\n",
    "    tokenization_regex = r'\\\\[a-zA-Z]+|(?<={)[a-zA-Z]+(?=})|[0-9]+|\\S'\n",
    "    def regularize_formula(text):\n",
    "        regularized_text = ''.join([string + \" \" if string.startswith(\"\\\\\") else string for string in text.split(\" \")])\n",
    "        tokens = re.findall(tokenization_regex, regularized_text)\n",
    "        return \" \".join(tokens)\n",
    "    \n",
    "    # Generator for wikipedia dataset\n",
    "    # We prioritize this one as it tends to have higher quality images\n",
    "    for expression in tqdm(wikipedia_latex):\n",
    "        if not expression[\"formula\"] in loaded_formulas:\n",
    "            loaded_formulas.add(expression[\"formula\"])\n",
    "            new_width = expression[\"image\"].size[0] // 2\n",
    "            new_height = expression[\"image\"].size[1] // 2\n",
    "            yield {\n",
    "                \"formula\": regularize_formula(expression[\"formula\"]),\n",
    "                \"image\": crop_borders(expression[\"image\"].resize((new_width, new_height)))\n",
    "            }\n",
    "    \n",
    "    # Generator for 100k dataset\n",
    "    for set_name in im2latex_100k.keys():\n",
    "        for expression in tqdm(im2latex_100k[set_name]):\n",
    "            if not expression[\"formula\"] in loaded_formulas:\n",
    "                loaded_formulas.add(expression[\"formula\"])\n",
    "                yield {\n",
    "                    \"formula\": regularize_formula(expression[\"formula\"]),\n",
    "                    \"image\": crop_borders(expression[\"image\"])\n",
    "                }"
   ]
  },
  {
   "cell_type": "code",
   "execution_count": 14,
   "metadata": {},
   "outputs": [
    {
     "name": "stderr",
     "output_type": "stream",
     "text": [
      "100%|██████████| 100000/100000 [03:27<00:00, 482.91it/s]amples/s] \n",
      "100%|██████████| 55033/55033 [01:19<00:00, 691.44it/s] examples/s] \n",
      "100%|██████████| 6810/6810 [00:09<00:00, 745.62it/s]37 examples/s] \n",
      "100%|██████████| 6072/6072 [00:07<00:00, 770.02it/s]89 examples/s] \n",
      "Generating train split: 167450 examples [05:04, 550.63 examples/s]\n"
     ]
    },
    {
     "name": "stdout",
     "output_type": "stream",
     "text": [
      "133960\n",
      "16745\n",
      "16745\n",
      "final dataset size: 167450\n"
     ]
    }
   ],
   "source": [
    "# Create dataset from generator\n",
    "im2latex_dataset = Dataset.from_generator(im2latex_generator)\n",
    "\n",
    "# Create an 8:1:1 training, validation, testing split\n",
    "train_testvalid = im2latex_dataset.train_test_split(test_size=0.2, seed=32)\n",
    "test_valid = train_testvalid['test'].train_test_split(test_size=0.5, seed=64)\n",
    "im2latex_dataset = DatasetDict({\n",
    "    'train': train_testvalid['train'],\n",
    "    'test': test_valid['test'],\n",
    "    'val': test_valid['train']\n",
    "})\n",
    "\n",
    "# Verify final dataset size\n",
    "print(im2latex_dataset['train'].num_rows)\n",
    "print(im2latex_dataset['val'].num_rows)\n",
    "print(im2latex_dataset['test'].num_rows)\n",
    "\n",
    "print(f\"final dataset size: {im2latex_dataset['train'].num_rows + im2latex_dataset['val'].num_rows + im2latex_dataset['test'].num_rows}\")"
   ]
  },
  {
   "cell_type": "markdown",
   "metadata": {},
   "source": [
    "## Final Data Check Inspection and Saving\n",
    "\n",
    "Check for final dataset for data leakage.\n",
    "Save the dataset to `./data/im2latex-250k`."
   ]
  },
  {
   "cell_type": "code",
   "execution_count": 15,
   "metadata": {},
   "outputs": [
    {
     "name": "stdout",
     "output_type": "stream",
     "text": [
      "the training set has 0 overlaps with the validation set\n",
      "the training set has 0 overlaps with the testing set\n",
      "the validation set 0 overlaps the testing set\n"
     ]
    }
   ],
   "source": [
    "# Convert formula lists to sets to compute intersection\n",
    "final_train_set = set(im2latex_dataset[\"train\"][\"formula\"])\n",
    "final_val_set = set(im2latex_dataset[\"val\"][\"formula\"])\n",
    "final_test_set = set(im2latex_dataset[\"test\"][\"formula\"])\n",
    "\n",
    "train_inter = final_train_set.intersection(final_val_set)\n",
    "print(f\"the training set has {len(train_inter)} overlaps with the validation set\")\n",
    "\n",
    "val_inter = final_train_set.intersection(final_test_set)\n",
    "print(f\"the training set has {len(val_inter)} overlaps with the testing set\")\n",
    "\n",
    "test_inter = final_val_set.intersection(final_test_set)\n",
    "print(f\"the validation set {len(test_inter)} overlaps the testing set\")"
   ]
  },
  {
   "cell_type": "code",
   "execution_count": 16,
   "metadata": {},
   "outputs": [
    {
     "name": "stderr",
     "output_type": "stream",
     "text": [
      "Saving the dataset (0/1 shards):   0%|          | 0/133960 [00:00<?, ? examples/s]"
     ]
    },
    {
     "name": "stderr",
     "output_type": "stream",
     "text": [
      "Saving the dataset (1/1 shards): 100%|██████████| 133960/133960 [00:02<00:00, 64960.37 examples/s]\n",
      "Saving the dataset (1/1 shards): 100%|██████████| 16745/16745 [00:00<00:00, 71152.27 examples/s]\n",
      "Saving the dataset (1/1 shards): 100%|██████████| 16745/16745 [00:00<00:00, 67877.85 examples/s]\n"
     ]
    }
   ],
   "source": [
    "OUTPUT_DIR = \"./data/im2latex-160k/\"\n",
    "\n",
    "# Save dataset to disk\n",
    "im2latex_dataset.save_to_disk(OUTPUT_DIR)"
   ]
  },
  {
   "cell_type": "code",
   "execution_count": 17,
   "metadata": {},
   "outputs": [
    {
     "name": "stdout",
     "output_type": "stream",
     "text": [
      "DatasetDict({\n",
      "    train: Dataset({\n",
      "        features: ['formula', 'image'],\n",
      "        num_rows: 133960\n",
      "    })\n",
      "    test: Dataset({\n",
      "        features: ['formula', 'image'],\n",
      "        num_rows: 16745\n",
      "    })\n",
      "    val: Dataset({\n",
      "        features: ['formula', 'image'],\n",
      "        num_rows: 16745\n",
      "    })\n",
      "})\n"
     ]
    }
   ],
   "source": [
    "OUTPUT_DIR = \"./data/im2latex-160k/\"\n",
    "\n",
    "# Load dataset to check if it has been saved correctly\n",
    "loaded_im2latex_dataset = load_from_disk(OUTPUT_DIR)\n",
    "\n",
    "print(loaded_im2latex_dataset)"
   ]
  },
  {
   "cell_type": "code",
   "execution_count": 21,
   "metadata": {},
   "outputs": [
    {
     "data": {
      "text/plain": [
       "<matplotlib.image.AxesImage at 0x7f4d572eacd0>"
      ]
     },
     "execution_count": 21,
     "metadata": {},
     "output_type": "execute_result"
    },
    {
     "data": {
      "image/png": "[encoded data removed]",
      "text/plain": [
       "<Figure size 640x480 with 1 Axes>"
      ]
     },
     "metadata": {},
     "output_type": "display_data"
    }
   ],
   "source": [
    "# Overlap example\n",
    "random_index = random.randint(0, loaded_im2latex_dataset[\"train\"].num_rows - 1)\n",
    "\n",
    "# Plot formula\n",
    "plt.title(loaded_im2latex_dataset[\"train\"][random_index][\"formula\"])\n",
    "plt.imshow(loaded_im2latex_dataset[\"train\"][random_index][\"image\"])"
   ]
  }
 ],
 "metadata": {
  "kernelspec": {
   "display_name": "venv",
   "language": "python",
   "name": "python3"
  },
  "language_info": {
   "codemirror_mode": {
    "name": "ipython",
    "version": 3
   },
   "file_extension": ".py",
   "mimetype": "text/x-python",
   "name": "python",
   "nbconvert_exporter": "python",
   "pygments_lexer": "ipython3",
   "version": "3.11.4"
  }
 },
 "nbformat": 4,
 "nbformat_minor": 2
}
